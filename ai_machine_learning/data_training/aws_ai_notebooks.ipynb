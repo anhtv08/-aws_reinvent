{
 "cells": [
  {
   "cell_type": "code",
   "execution_count": 2,
   "metadata": {},
   "outputs": [
    {
     "name": "stdout",
     "output_type": "stream",
     "text": [
      "5\n",
      "25\n"
     ]
    }
   ],
   "source": [
    "def add_numbers(num1, num2):\n",
    "    \"\"\"\n",
    "    Add two numbers together.\n",
    "\n",
    "    Args:\n",
    "        num1 (int or float): The first number.\n",
    "        num2 (int or float): The second number.\n",
    "\n",
    "    Returns:\n",
    "        int or float: The sum of the two numbers.\n",
    "    \"\"\"\n",
    "    return num1 + num2\n",
    "res = add_numbers(2, 3)\n",
    "print(res)\n",
    "\n",
    "res = add_numbers(10, 15)\n",
    "print(res)"
   ]
  },
  {
   "cell_type": "code",
   "execution_count": null,
   "metadata": {},
   "outputs": [],
   "source": []
  }
 ],
 "metadata": {
  "kernelspec": {
   "display_name": "Python 3",
   "language": "python",
   "name": "python3"
  },
  "language_info": {
   "codemirror_mode": {
    "name": "ipython",
    "version": 3
   },
   "file_extension": ".py",
   "mimetype": "text/x-python",
   "name": "python",
   "nbconvert_exporter": "python",
   "pygments_lexer": "ipython3",
   "version": "3.11.9"
  }
 },
 "nbformat": 4,
 "nbformat_minor": 2
}
