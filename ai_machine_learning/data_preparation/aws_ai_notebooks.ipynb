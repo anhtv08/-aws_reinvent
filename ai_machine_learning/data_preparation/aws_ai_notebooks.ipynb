{
 "cells": [
  {
   "cell_type": "code",
   "execution_count": 2,
   "metadata": {},
   "outputs": [
    {
     "name": "stdout",
     "output_type": "stream",
     "text": [
      "5\n",
      "25\n"
     ]
    }
   ],
   "source": [
    "import pandas as pd\n",
    "import numpy as np\n",
    "\n",
    "# Set random seed for reproducibility\n",
    "np.random.seed(42)\n",
    "\n",
    "# Number of samples to generate\n",
    "num_samples = 1000\n",
    "\n",
    "# Generate synthetic data\n",
    "data = {\n",
    "    'TransactionID': range(1, num_samples + 1),\n",
    "    'Amount': np.random.randint(10, 5000, num_samples),\n",
    "    'TransactionDate': pd.date_range(start='2021-01-01', periods=num_samples, freq='T'),\n",
    "    'CustomerID': np.random.randint(1000, 1100, num_samples),\n",
    "    'MerchantID': np.random.randint(5000, 5100, num_samples),\n",
    "    'Category': np.random.choice(['groceries', 'electronics', 'apparel', 'dining', 'travel'], num_samples),\n",
    "    'PreviousFraudReported': np.random.choice([0, 1], num_samples, p=[0.9, 0.1]),\n",
    "    'IsFraud': np.random.choice([0, 1], num_samples, p=[0.95, 0.05])\n",
    "}\n",
    "\n",
    "# Create DataFrame\n",
    "df = pd.DataFrame(data)\n",
    "\n",
    "# Save DataFrame to CSV\n",
    "df.to_csv('fraud-detection-data.csv', index=False)\n",
    "\n",
    "print(\"CSV file 'fraud-detection-data.csv' has been created and saved.\")\n",
    "\n",
    "\n"
   ]
  },
  {
   "cell_type": "code",
   "execution_count": null,
   "metadata": {},
   "outputs": [],
   "source": [
    "import numpy as np\n",
    "from sklearn.datasets import dump_svmlight_file\n",
    "data_channels = {'train': 's3://joey-ml/data/fraud-detection-data.libsvm'}\n",
    "estimator.fit(data_channels)\n",
    "\n",
    "\n"
   ]
  }
 ],
 "metadata": {
  "kernelspec": {
   "display_name": "Python 3",
   "language": "python",
   "name": "python3"
  },
  "language_info": {
   "codemirror_mode": {
    "name": "ipython",
    "version": 3
   },
   "file_extension": ".py",
   "mimetype": "text/x-python",
   "name": "python",
   "nbconvert_exporter": "python",
   "pygments_lexer": "ipython3",
   "version": "3.11.9"
  }
 },
 "nbformat": 4,
 "nbformat_minor": 2
}
